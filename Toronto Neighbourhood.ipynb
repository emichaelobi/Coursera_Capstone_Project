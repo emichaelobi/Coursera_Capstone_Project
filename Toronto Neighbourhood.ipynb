{
    "cells": [
        {
            "cell_type": "markdown",
            "metadata": {},
            "source": "Segmenting and Clustering Neighborhoods in Toronto"
        },
        {
            "cell_type": "code",
            "execution_count": 1,
            "metadata": {},
            "outputs": [],
            "source": "# import necessary libraries\nfrom bs4 import BeautifulSoup\nimport requests # Requests allows you to send organic, grass-fed HTTP/1.1 requests, without the need for manual labor.\nfrom urllib import request, response, error, parse\nfrom urllib.request import urlopen\nimport pandas as pd"
        },
        {
            "cell_type": "code",
            "execution_count": 2,
            "metadata": {},
            "outputs": [
                {
                    "name": "stdout",
                    "output_type": "stream",
                    "text": "List of postal codes of Canada: M - Wikipedia\n"
                }
            ],
            "source": "# Load article, turn into soup and check the title to confirm it\nwebsite_url = 'https://en.wikipedia.org/wiki/List_of_postal_codes_of_Canada:_M'\nhtml =urlopen(website_url)\nsoup = BeautifulSoup(html, \"lxml\")\ntitle = soup.title\ntitleText = title.get_text ()\nprint(titleText)\n"
        },
        {
            "cell_type": "code",
            "execution_count": 3,
            "metadata": {},
            "outputs": [],
            "source": "# find class \u2018wikitable sortable\u2019 in the HTML script\nMy_table = soup.find('table',{'class':'wikitable sortable'})"
        },
        {
            "cell_type": "code",
            "execution_count": 4,
            "metadata": {},
            "outputs": [],
            "source": "# Search through the tables for the one with the headings we want.\nfor table in My_table:\n    ths = My_table.findAll('th')\n    headings = [th.text.strip() for th in ths]\n    headings[:3] == ['Postcode', 'Borough', 'Neighbourhood']"
        },
        {
            "cell_type": "code",
            "execution_count": 5,
            "metadata": {},
            "outputs": [],
            "source": "# Extract the columns we want and write to a comma-delimited file.\nwith open('output.csv', 'w') as fo:\n    for tr in My_table.findAll('tr'):\n        tds = tr.findAll('td')\n        if not tds:\n            continue\n        Postcode, Borough, Neighbourhood = [td.text.strip() for td in tds[:3]]\n        print(', '.join([Postcode, Borough, Neighbourhood]), file=fo)"
        },
        {
            "cell_type": "code",
            "execution_count": 6,
            "metadata": {},
            "outputs": [
                {
                    "data": {
                        "text/html": "<div>\n<style scoped>\n    .dataframe tbody tr th:only-of-type {\n        vertical-align: middle;\n    }\n\n    .dataframe tbody tr th {\n        vertical-align: top;\n    }\n\n    .dataframe thead th {\n        text-align: right;\n    }\n</style>\n<table border=\"1\" class=\"dataframe\">\n  <thead>\n    <tr style=\"text-align: right;\">\n      <th></th>\n      <th>PostalCode</th>\n      <th>Borough</th>\n      <th>Neighbourhood</th>\n    </tr>\n  </thead>\n  <tbody>\n    <tr>\n      <th>0</th>\n      <td>M1A</td>\n      <td>Not assigned</td>\n      <td>Not assigned</td>\n    </tr>\n    <tr>\n      <th>1</th>\n      <td>M2A</td>\n      <td>Not assigned</td>\n      <td>Not assigned</td>\n    </tr>\n    <tr>\n      <th>2</th>\n      <td>M3A</td>\n      <td>North York</td>\n      <td>Parkwoods</td>\n    </tr>\n    <tr>\n      <th>3</th>\n      <td>M4A</td>\n      <td>North York</td>\n      <td>Victoria Village</td>\n    </tr>\n    <tr>\n      <th>4</th>\n      <td>M5A</td>\n      <td>Downtown Toronto</td>\n      <td>Harbourfront</td>\n    </tr>\n    <tr>\n      <th>5</th>\n      <td>M6A</td>\n      <td>North York</td>\n      <td>Lawrence Heights</td>\n    </tr>\n    <tr>\n      <th>6</th>\n      <td>M6A</td>\n      <td>North York</td>\n      <td>Lawrence Manor</td>\n    </tr>\n    <tr>\n      <th>7</th>\n      <td>M7A</td>\n      <td>Downtown Toronto</td>\n      <td>Queen's Park</td>\n    </tr>\n    <tr>\n      <th>8</th>\n      <td>M8A</td>\n      <td>Not assigned</td>\n      <td>Not assigned</td>\n    </tr>\n    <tr>\n      <th>9</th>\n      <td>M9A</td>\n      <td>Etobicoke</td>\n      <td>Islington Avenue</td>\n    </tr>\n    <tr>\n      <th>10</th>\n      <td>M1B</td>\n      <td>Scarborough</td>\n      <td>Rouge</td>\n    </tr>\n    <tr>\n      <th>11</th>\n      <td>M1B</td>\n      <td>Scarborough</td>\n      <td>Malvern</td>\n    </tr>\n    <tr>\n      <th>12</th>\n      <td>M2B</td>\n      <td>Not assigned</td>\n      <td>Not assigned</td>\n    </tr>\n    <tr>\n      <th>13</th>\n      <td>M3B</td>\n      <td>North York</td>\n      <td>Don Mills North</td>\n    </tr>\n    <tr>\n      <th>14</th>\n      <td>M4B</td>\n      <td>East York</td>\n      <td>Woodbine Gardens</td>\n    </tr>\n    <tr>\n      <th>15</th>\n      <td>M4B</td>\n      <td>East York</td>\n      <td>Parkview Hill</td>\n    </tr>\n    <tr>\n      <th>16</th>\n      <td>M5B</td>\n      <td>Downtown Toronto</td>\n      <td>Ryerson</td>\n    </tr>\n    <tr>\n      <th>17</th>\n      <td>M5B</td>\n      <td>Downtown Toronto</td>\n      <td>Garden District</td>\n    </tr>\n    <tr>\n      <th>18</th>\n      <td>M6B</td>\n      <td>North York</td>\n      <td>Glencairn</td>\n    </tr>\n    <tr>\n      <th>19</th>\n      <td>M7B</td>\n      <td>Not assigned</td>\n      <td>Not assigned</td>\n    </tr>\n    <tr>\n      <th>20</th>\n      <td>M8B</td>\n      <td>Not assigned</td>\n      <td>Not assigned</td>\n    </tr>\n    <tr>\n      <th>21</th>\n      <td>M9B</td>\n      <td>Etobicoke</td>\n      <td>Cloverdale</td>\n    </tr>\n    <tr>\n      <th>22</th>\n      <td>M9B</td>\n      <td>Etobicoke</td>\n      <td>Islington</td>\n    </tr>\n    <tr>\n      <th>23</th>\n      <td>M9B</td>\n      <td>Etobicoke</td>\n      <td>Martin Grove</td>\n    </tr>\n    <tr>\n      <th>24</th>\n      <td>M9B</td>\n      <td>Etobicoke</td>\n      <td>Princess Gardens</td>\n    </tr>\n    <tr>\n      <th>25</th>\n      <td>M9B</td>\n      <td>Etobicoke</td>\n      <td>West Deane Park</td>\n    </tr>\n    <tr>\n      <th>26</th>\n      <td>M1C</td>\n      <td>Scarborough</td>\n      <td>Highland Creek</td>\n    </tr>\n    <tr>\n      <th>27</th>\n      <td>M1C</td>\n      <td>Scarborough</td>\n      <td>Rouge Hill</td>\n    </tr>\n    <tr>\n      <th>28</th>\n      <td>M1C</td>\n      <td>Scarborough</td>\n      <td>Port Union</td>\n    </tr>\n    <tr>\n      <th>29</th>\n      <td>M2C</td>\n      <td>Not assigned</td>\n      <td>Not assigned</td>\n    </tr>\n    <tr>\n      <th>...</th>\n      <td>...</td>\n      <td>...</td>\n      <td>...</td>\n    </tr>\n    <tr>\n      <th>257</th>\n      <td>M9X</td>\n      <td>Not assigned</td>\n      <td>Not assigned</td>\n    </tr>\n    <tr>\n      <th>258</th>\n      <td>M1Y</td>\n      <td>Not assigned</td>\n      <td>Not assigned</td>\n    </tr>\n    <tr>\n      <th>259</th>\n      <td>M2Y</td>\n      <td>Not assigned</td>\n      <td>Not assigned</td>\n    </tr>\n    <tr>\n      <th>260</th>\n      <td>M3Y</td>\n      <td>Not assigned</td>\n      <td>Not assigned</td>\n    </tr>\n    <tr>\n      <th>261</th>\n      <td>M4Y</td>\n      <td>Downtown Toronto</td>\n      <td>Church and Wellesley</td>\n    </tr>\n    <tr>\n      <th>262</th>\n      <td>M5Y</td>\n      <td>Not assigned</td>\n      <td>Not assigned</td>\n    </tr>\n    <tr>\n      <th>263</th>\n      <td>M6Y</td>\n      <td>Not assigned</td>\n      <td>Not assigned</td>\n    </tr>\n    <tr>\n      <th>264</th>\n      <td>M7Y</td>\n      <td>East Toronto</td>\n      <td>Business Reply Mail Processing Centre 969 Eas...</td>\n    </tr>\n    <tr>\n      <th>265</th>\n      <td>M8Y</td>\n      <td>Etobicoke</td>\n      <td>Humber Bay</td>\n    </tr>\n    <tr>\n      <th>266</th>\n      <td>M8Y</td>\n      <td>Etobicoke</td>\n      <td>King's Mill Park</td>\n    </tr>\n    <tr>\n      <th>267</th>\n      <td>M8Y</td>\n      <td>Etobicoke</td>\n      <td>Kingsway Park South East</td>\n    </tr>\n    <tr>\n      <th>268</th>\n      <td>M8Y</td>\n      <td>Etobicoke</td>\n      <td>Mimico NE</td>\n    </tr>\n    <tr>\n      <th>269</th>\n      <td>M8Y</td>\n      <td>Etobicoke</td>\n      <td>Old Mill South</td>\n    </tr>\n    <tr>\n      <th>270</th>\n      <td>M8Y</td>\n      <td>Etobicoke</td>\n      <td>The Queensway East</td>\n    </tr>\n    <tr>\n      <th>271</th>\n      <td>M8Y</td>\n      <td>Etobicoke</td>\n      <td>Royal York South East</td>\n    </tr>\n    <tr>\n      <th>272</th>\n      <td>M8Y</td>\n      <td>Etobicoke</td>\n      <td>Sunnylea</td>\n    </tr>\n    <tr>\n      <th>273</th>\n      <td>M9Y</td>\n      <td>Not assigned</td>\n      <td>Not assigned</td>\n    </tr>\n    <tr>\n      <th>274</th>\n      <td>M1Z</td>\n      <td>Not assigned</td>\n      <td>Not assigned</td>\n    </tr>\n    <tr>\n      <th>275</th>\n      <td>M2Z</td>\n      <td>Not assigned</td>\n      <td>Not assigned</td>\n    </tr>\n    <tr>\n      <th>276</th>\n      <td>M3Z</td>\n      <td>Not assigned</td>\n      <td>Not assigned</td>\n    </tr>\n    <tr>\n      <th>277</th>\n      <td>M4Z</td>\n      <td>Not assigned</td>\n      <td>Not assigned</td>\n    </tr>\n    <tr>\n      <th>278</th>\n      <td>M5Z</td>\n      <td>Not assigned</td>\n      <td>Not assigned</td>\n    </tr>\n    <tr>\n      <th>279</th>\n      <td>M6Z</td>\n      <td>Not assigned</td>\n      <td>Not assigned</td>\n    </tr>\n    <tr>\n      <th>280</th>\n      <td>M7Z</td>\n      <td>Not assigned</td>\n      <td>Not assigned</td>\n    </tr>\n    <tr>\n      <th>281</th>\n      <td>M8Z</td>\n      <td>Etobicoke</td>\n      <td>Kingsway Park South West</td>\n    </tr>\n    <tr>\n      <th>282</th>\n      <td>M8Z</td>\n      <td>Etobicoke</td>\n      <td>Mimico NW</td>\n    </tr>\n    <tr>\n      <th>283</th>\n      <td>M8Z</td>\n      <td>Etobicoke</td>\n      <td>The Queensway West</td>\n    </tr>\n    <tr>\n      <th>284</th>\n      <td>M8Z</td>\n      <td>Etobicoke</td>\n      <td>Royal York South West</td>\n    </tr>\n    <tr>\n      <th>285</th>\n      <td>M8Z</td>\n      <td>Etobicoke</td>\n      <td>South of Bloor</td>\n    </tr>\n    <tr>\n      <th>286</th>\n      <td>M9Z</td>\n      <td>Not assigned</td>\n      <td>Not assigned</td>\n    </tr>\n  </tbody>\n</table>\n<p>287 rows \u00d7 3 columns</p>\n</div>",
                        "text/plain": "    PostalCode            Borough  \\\n0          M1A       Not assigned   \n1          M2A       Not assigned   \n2          M3A         North York   \n3          M4A         North York   \n4          M5A   Downtown Toronto   \n5          M6A         North York   \n6          M6A         North York   \n7          M7A   Downtown Toronto   \n8          M8A       Not assigned   \n9          M9A          Etobicoke   \n10         M1B        Scarborough   \n11         M1B        Scarborough   \n12         M2B       Not assigned   \n13         M3B         North York   \n14         M4B          East York   \n15         M4B          East York   \n16         M5B   Downtown Toronto   \n17         M5B   Downtown Toronto   \n18         M6B         North York   \n19         M7B       Not assigned   \n20         M8B       Not assigned   \n21         M9B          Etobicoke   \n22         M9B          Etobicoke   \n23         M9B          Etobicoke   \n24         M9B          Etobicoke   \n25         M9B          Etobicoke   \n26         M1C        Scarborough   \n27         M1C        Scarborough   \n28         M1C        Scarborough   \n29         M2C       Not assigned   \n..         ...                ...   \n257        M9X       Not assigned   \n258        M1Y       Not assigned   \n259        M2Y       Not assigned   \n260        M3Y       Not assigned   \n261        M4Y   Downtown Toronto   \n262        M5Y       Not assigned   \n263        M6Y       Not assigned   \n264        M7Y       East Toronto   \n265        M8Y          Etobicoke   \n266        M8Y          Etobicoke   \n267        M8Y          Etobicoke   \n268        M8Y          Etobicoke   \n269        M8Y          Etobicoke   \n270        M8Y          Etobicoke   \n271        M8Y          Etobicoke   \n272        M8Y          Etobicoke   \n273        M9Y       Not assigned   \n274        M1Z       Not assigned   \n275        M2Z       Not assigned   \n276        M3Z       Not assigned   \n277        M4Z       Not assigned   \n278        M5Z       Not assigned   \n279        M6Z       Not assigned   \n280        M7Z       Not assigned   \n281        M8Z          Etobicoke   \n282        M8Z          Etobicoke   \n283        M8Z          Etobicoke   \n284        M8Z          Etobicoke   \n285        M8Z          Etobicoke   \n286        M9Z       Not assigned   \n\n                                         Neighbourhood  \n0                                         Not assigned  \n1                                         Not assigned  \n2                                            Parkwoods  \n3                                     Victoria Village  \n4                                         Harbourfront  \n5                                     Lawrence Heights  \n6                                       Lawrence Manor  \n7                                         Queen's Park  \n8                                         Not assigned  \n9                                     Islington Avenue  \n10                                               Rouge  \n11                                             Malvern  \n12                                        Not assigned  \n13                                     Don Mills North  \n14                                    Woodbine Gardens  \n15                                       Parkview Hill  \n16                                             Ryerson  \n17                                     Garden District  \n18                                           Glencairn  \n19                                        Not assigned  \n20                                        Not assigned  \n21                                          Cloverdale  \n22                                           Islington  \n23                                        Martin Grove  \n24                                    Princess Gardens  \n25                                     West Deane Park  \n26                                      Highland Creek  \n27                                          Rouge Hill  \n28                                          Port Union  \n29                                        Not assigned  \n..                                                 ...  \n257                                       Not assigned  \n258                                       Not assigned  \n259                                       Not assigned  \n260                                       Not assigned  \n261                               Church and Wellesley  \n262                                       Not assigned  \n263                                       Not assigned  \n264   Business Reply Mail Processing Centre 969 Eas...  \n265                                         Humber Bay  \n266                                   King's Mill Park  \n267                           Kingsway Park South East  \n268                                          Mimico NE  \n269                                     Old Mill South  \n270                                 The Queensway East  \n271                              Royal York South East  \n272                                           Sunnylea  \n273                                       Not assigned  \n274                                       Not assigned  \n275                                       Not assigned  \n276                                       Not assigned  \n277                                       Not assigned  \n278                                       Not assigned  \n279                                       Not assigned  \n280                                       Not assigned  \n281                           Kingsway Park South West  \n282                                          Mimico NW  \n283                                 The Queensway West  \n284                              Royal York South West  \n285                                     South of Bloor  \n286                                       Not assigned  \n\n[287 rows x 3 columns]"
                    },
                    "execution_count": 6,
                    "metadata": {},
                    "output_type": "execute_result"
                }
            ],
            "source": "#Convert the list into Pandas DataFrame to work in python\nimport pandas as pd\ndf = pd.read_csv('output.csv', header=None, names=['PostalCode', 'Borough', 'Neighbourhood'])\ndf"
        },
        {
            "cell_type": "code",
            "execution_count": 7,
            "metadata": {},
            "outputs": [],
            "source": "#Drop a row if it contains 'Not assigned' \ndf[df.Borough != 'Not assigned']\n\ndf = df.dropna()\nnull = 'Not assigned'\ndf = df[(df.PostalCode != null) & (df.Borough != null) & (df.Neighbourhood != null)]"
        },
        {
            "cell_type": "code",
            "execution_count": 8,
            "metadata": {},
            "outputs": [
                {
                    "data": {
                        "text/plain": "(287, 3)"
                    },
                    "execution_count": 8,
                    "metadata": {},
                    "output_type": "execute_result"
                }
            ],
            "source": "df.shape"
        },
        {
            "cell_type": "code",
            "execution_count": 9,
            "metadata": {},
            "outputs": [],
            "source": "def neighborhood_list(grouped):    \n    return ', '.join(sorted(grouped['Neighbourhood'].tolist()))\n                    \ngrp = df.groupby(['PostalCode', 'Borough'])\ndf2 = grp.apply(neighborhood_list).reset_index(name='Neighbourhood')"
        },
        {
            "cell_type": "code",
            "execution_count": null,
            "metadata": {},
            "outputs": [
                {
                    "name": "stdout",
                    "output_type": "stream",
                    "text": "Solving environment: | "
                }
            ],
            "source": "import numpy as np # library to handle data in a vectorized manner\n!conda install -c conda-forge geopy --yes \nfrom geopy.geocoders import Nominatim # module to convert an address into latitude and longitude values\n\n# libraries for displaying images\nfrom IPython.display import Image \nfrom IPython.core.display import HTML \n    \n# tranforming json file into a pandas dataframe library\nfrom pandas.io.json import json_normalize\n\n!conda install -c conda-forge folium=0.5.0 --yes\nimport folium # plotting library\n\n"
        },
        {
            "cell_type": "markdown",
            "metadata": {},
            "source": "# Part II- Add Latitude and Longitude"
        },
        {
            "cell_type": "code",
            "execution_count": 20,
            "metadata": {},
            "outputs": [
                {
                    "name": "stdout",
                    "output_type": "stream",
                    "text": "Solving environment: done\n\n## Package Plan ##\n\n  environment location: /opt/conda/envs/Python36\n\n  added / updated specs: \n    - geocoder\n\n\nThe following packages will be downloaded:\n\n    package                    |            build\n    ---------------------------|-----------------\n    geocoder-1.38.1            |             py_1          53 KB  conda-forge\n    ratelim-0.1.6              |             py_2           6 KB  conda-forge\n    ------------------------------------------------------------\n                                           Total:          59 KB\n\nThe following NEW packages will be INSTALLED:\n\n    geocoder: 1.38.1-py_1 conda-forge\n    ratelim:  0.1.6-py_2  conda-forge\n\n\nDownloading and Extracting Packages\ngeocoder-1.38.1      | 53 KB     | ##################################### | 100% \nratelim-0.1.6        | 6 KB      | ##################################### | 100% \nPreparing transaction: done\nVerifying transaction: done\nExecuting transaction: done\n"
                }
            ],
            "source": "!conda install -c conda-forge geocoder --yes \nimport geocoder # import geocoder"
        },
        {
            "cell_type": "code",
            "execution_count": 21,
            "metadata": {},
            "outputs": [
                {
                    "data": {
                        "text/plain": "[43.71174000000008, -79.57918134599998]"
                    },
                    "execution_count": 21,
                    "metadata": {},
                    "output_type": "execute_result"
                }
            ],
            "source": "\ndef get_latlng(postal_code):\n# initialize your variable to None\n    lat_lng_coords = None\n# loop until you get the coordinates\n    while(lat_lng_coords is None):\n        g = geocoder.arcgis('{}, Toronto, Ontario'.format(postal_code))\n        lat_lng_coords = g.latlng\n    return lat_lng_coords\n    \nget_latlng('M9W')"
        },
        {
            "cell_type": "code",
            "execution_count": 25,
            "metadata": {},
            "outputs": [
                {
                    "name": "stderr",
                    "output_type": "stream",
                    "text": "Status code Unknown from https://geocode.arcgis.com/arcgis/rest/services/World/GeocodeServer/find: ERROR - HTTPSConnectionPool(host='geocode.arcgis.com', port=443): Read timed out. (read timeout=5.0)\nStatus code Unknown from https://geocode.arcgis.com/arcgis/rest/services/World/GeocodeServer/find: ERROR - HTTPSConnectionPool(host='geocode.arcgis.com', port=443): Read timed out. (read timeout=5.0)\n"
                }
            ],
            "source": "postal_codes = df2['PostalCode']    \ncoordins = [ get_latlng(postal_code) for postal_code in postal_codes.tolist() ]"
        },
        {
            "cell_type": "code",
            "execution_count": 26,
            "metadata": {},
            "outputs": [],
            "source": "df3 = pd.DataFrame(coordins, columns=['Latitude', 'Longitude'])\ndf2['Latitude'] = df3['Latitude']\ndf2['Longitude'] = df3['Longitude']"
        },
        {
            "cell_type": "code",
            "execution_count": 23,
            "metadata": {},
            "outputs": [
                {
                    "data": {
                        "text/html": "<div>\n<style scoped>\n    .dataframe tbody tr th:only-of-type {\n        vertical-align: middle;\n    }\n\n    .dataframe tbody tr th {\n        vertical-align: top;\n    }\n\n    .dataframe thead th {\n        text-align: right;\n    }\n</style>\n<table border=\"1\" class=\"dataframe\">\n  <thead>\n    <tr style=\"text-align: right;\">\n      <th></th>\n      <th>PostalCode</th>\n      <th>Borough</th>\n      <th>Neighbourhood</th>\n    </tr>\n  </thead>\n  <tbody>\n    <tr>\n      <th>176</th>\n      <td>M9W</td>\n      <td>Etobicoke</td>\n      <td>Northwest</td>\n    </tr>\n  </tbody>\n</table>\n</div>",
                        "text/plain": "    PostalCode     Borough Neighbourhood\n176        M9W   Etobicoke     Northwest"
                    },
                    "execution_count": 23,
                    "metadata": {},
                    "output_type": "execute_result"
                }
            ],
            "source": "df2[df2.PostalCode == 'M9W']"
        },
        {
            "cell_type": "code",
            "execution_count": 28,
            "metadata": {},
            "outputs": [
                {
                    "data": {
                        "text/html": "<div>\n<style scoped>\n    .dataframe tbody tr th:only-of-type {\n        vertical-align: middle;\n    }\n\n    .dataframe tbody tr th {\n        vertical-align: top;\n    }\n\n    .dataframe thead th {\n        text-align: right;\n    }\n</style>\n<table border=\"1\" class=\"dataframe\">\n  <thead>\n    <tr style=\"text-align: right;\">\n      <th></th>\n      <th>PostalCode</th>\n      <th>Borough</th>\n      <th>Neighbourhood</th>\n      <th>Latitude</th>\n      <th>Longitude</th>\n    </tr>\n  </thead>\n  <tbody>\n    <tr>\n      <th>0</th>\n      <td>M1A</td>\n      <td>Not assigned</td>\n      <td>Not assigned</td>\n      <td>43.648690</td>\n      <td>-79.385440</td>\n    </tr>\n    <tr>\n      <th>1</th>\n      <td>M1B</td>\n      <td>Scarborough</td>\n      <td>Malvern,  Rouge</td>\n      <td>43.811525</td>\n      <td>-79.195517</td>\n    </tr>\n    <tr>\n      <th>2</th>\n      <td>M1C</td>\n      <td>Scarborough</td>\n      <td>Highland Creek,  Port Union,  Rouge Hill</td>\n      <td>43.785665</td>\n      <td>-79.158725</td>\n    </tr>\n    <tr>\n      <th>3</th>\n      <td>M1E</td>\n      <td>Scarborough</td>\n      <td>Guildwood,  Morningside,  West Hill</td>\n      <td>43.765815</td>\n      <td>-79.175193</td>\n    </tr>\n    <tr>\n      <th>4</th>\n      <td>M1G</td>\n      <td>Scarborough</td>\n      <td>Woburn</td>\n      <td>43.768369</td>\n      <td>-79.217590</td>\n    </tr>\n    <tr>\n      <th>5</th>\n      <td>M1H</td>\n      <td>Scarborough</td>\n      <td>Cedarbrae</td>\n      <td>43.769688</td>\n      <td>-79.239440</td>\n    </tr>\n    <tr>\n      <th>6</th>\n      <td>M1J</td>\n      <td>Scarborough</td>\n      <td>Scarborough Village</td>\n      <td>43.743125</td>\n      <td>-79.231750</td>\n    </tr>\n    <tr>\n      <th>7</th>\n      <td>M1K</td>\n      <td>Scarborough</td>\n      <td>East Birchmount Park,  Ionview,  Kennedy Park</td>\n      <td>43.726276</td>\n      <td>-79.263625</td>\n    </tr>\n    <tr>\n      <th>8</th>\n      <td>M1L</td>\n      <td>Scarborough</td>\n      <td>Clairlea,  Golden Mile,  Oakridge</td>\n      <td>43.713054</td>\n      <td>-79.285055</td>\n    </tr>\n    <tr>\n      <th>9</th>\n      <td>M1M</td>\n      <td>Scarborough</td>\n      <td>Cliffcrest,  Cliffside,  Scarborough Village ...</td>\n      <td>43.724235</td>\n      <td>-79.227925</td>\n    </tr>\n    <tr>\n      <th>10</th>\n      <td>M1N</td>\n      <td>Scarborough</td>\n      <td>Birch Cliff,  Cliffside West</td>\n      <td>43.696770</td>\n      <td>-79.259967</td>\n    </tr>\n    <tr>\n      <th>11</th>\n      <td>M1P</td>\n      <td>Scarborough</td>\n      <td>Dorset Park,  Scarborough Town Centre,  Wexfo...</td>\n      <td>43.759975</td>\n      <td>-79.268974</td>\n    </tr>\n    <tr>\n      <th>12</th>\n      <td>M1R</td>\n      <td>Scarborough</td>\n      <td>Maryvale,  Wexford</td>\n      <td>43.750710</td>\n      <td>-79.300560</td>\n    </tr>\n    <tr>\n      <th>13</th>\n      <td>M1S</td>\n      <td>Scarborough</td>\n      <td>Agincourt</td>\n      <td>43.793940</td>\n      <td>-79.267976</td>\n    </tr>\n    <tr>\n      <th>14</th>\n      <td>M1T</td>\n      <td>Scarborough</td>\n      <td>Clarks Corners,  Sullivan,  Tam O'Shanter</td>\n      <td>43.784725</td>\n      <td>-79.299066</td>\n    </tr>\n    <tr>\n      <th>15</th>\n      <td>M1V</td>\n      <td>Scarborough</td>\n      <td>Agincourt North,  L'Amoreaux East,  Milliken,...</td>\n      <td>43.817685</td>\n      <td>-79.280187</td>\n    </tr>\n    <tr>\n      <th>16</th>\n      <td>M1W</td>\n      <td>Scarborough</td>\n      <td>L'Amoreaux West</td>\n      <td>43.800883</td>\n      <td>-79.320740</td>\n    </tr>\n    <tr>\n      <th>17</th>\n      <td>M1X</td>\n      <td>Scarborough</td>\n      <td>Upper Rouge</td>\n      <td>43.834215</td>\n      <td>-79.216701</td>\n    </tr>\n    <tr>\n      <th>18</th>\n      <td>M1Y</td>\n      <td>Not assigned</td>\n      <td>Not assigned</td>\n      <td>43.648690</td>\n      <td>-79.385440</td>\n    </tr>\n    <tr>\n      <th>19</th>\n      <td>M1Z</td>\n      <td>Not assigned</td>\n      <td>Not assigned</td>\n      <td>43.648690</td>\n      <td>-79.385440</td>\n    </tr>\n    <tr>\n      <th>20</th>\n      <td>M2A</td>\n      <td>Not assigned</td>\n      <td>Not assigned</td>\n      <td>43.648690</td>\n      <td>-79.385440</td>\n    </tr>\n    <tr>\n      <th>21</th>\n      <td>M2B</td>\n      <td>Not assigned</td>\n      <td>Not assigned</td>\n      <td>43.648690</td>\n      <td>-79.385440</td>\n    </tr>\n    <tr>\n      <th>22</th>\n      <td>M2C</td>\n      <td>Not assigned</td>\n      <td>Not assigned</td>\n      <td>43.648690</td>\n      <td>-79.385440</td>\n    </tr>\n    <tr>\n      <th>23</th>\n      <td>M2E</td>\n      <td>Not assigned</td>\n      <td>Not assigned</td>\n      <td>43.648690</td>\n      <td>-79.385440</td>\n    </tr>\n    <tr>\n      <th>24</th>\n      <td>M2G</td>\n      <td>Not assigned</td>\n      <td>Not assigned</td>\n      <td>43.648690</td>\n      <td>-79.385440</td>\n    </tr>\n    <tr>\n      <th>25</th>\n      <td>M2H</td>\n      <td>North York</td>\n      <td>Hillcrest Village</td>\n      <td>43.802845</td>\n      <td>-79.356207</td>\n    </tr>\n    <tr>\n      <th>26</th>\n      <td>M2J</td>\n      <td>North York</td>\n      <td>Fairview,  Henry Farm,  Oriole</td>\n      <td>43.780970</td>\n      <td>-79.347813</td>\n    </tr>\n    <tr>\n      <th>27</th>\n      <td>M2K</td>\n      <td>North York</td>\n      <td>Bayview Village</td>\n      <td>43.781015</td>\n      <td>-79.380529</td>\n    </tr>\n    <tr>\n      <th>28</th>\n      <td>M2L</td>\n      <td>North York</td>\n      <td>Silver Hills,  York Mills</td>\n      <td>43.757095</td>\n      <td>-79.380320</td>\n    </tr>\n    <tr>\n      <th>29</th>\n      <td>M2M</td>\n      <td>North York</td>\n      <td>Newtonbrook,  Willowdale</td>\n      <td>43.791475</td>\n      <td>-79.413605</td>\n    </tr>\n    <tr>\n      <th>...</th>\n      <td>...</td>\n      <td>...</td>\n      <td>...</td>\n      <td>...</td>\n      <td>...</td>\n    </tr>\n    <tr>\n      <th>150</th>\n      <td>M8N</td>\n      <td>Not assigned</td>\n      <td>Not assigned</td>\n      <td>43.648690</td>\n      <td>-79.385440</td>\n    </tr>\n    <tr>\n      <th>151</th>\n      <td>M8P</td>\n      <td>Not assigned</td>\n      <td>Not assigned</td>\n      <td>43.648690</td>\n      <td>-79.385440</td>\n    </tr>\n    <tr>\n      <th>152</th>\n      <td>M8R</td>\n      <td>Not assigned</td>\n      <td>Not assigned</td>\n      <td>43.648690</td>\n      <td>-79.385440</td>\n    </tr>\n    <tr>\n      <th>153</th>\n      <td>M8S</td>\n      <td>Not assigned</td>\n      <td>Not assigned</td>\n      <td>43.648690</td>\n      <td>-79.385440</td>\n    </tr>\n    <tr>\n      <th>154</th>\n      <td>M8T</td>\n      <td>Not assigned</td>\n      <td>Not assigned</td>\n      <td>43.648690</td>\n      <td>-79.385440</td>\n    </tr>\n    <tr>\n      <th>155</th>\n      <td>M8V</td>\n      <td>Etobicoke</td>\n      <td>Humber Bay Shores,  Mimico South,  New Toronto</td>\n      <td>43.612200</td>\n      <td>-79.495146</td>\n    </tr>\n    <tr>\n      <th>156</th>\n      <td>M8W</td>\n      <td>Etobicoke</td>\n      <td>Alderwood,  Long Branch</td>\n      <td>43.601131</td>\n      <td>-79.538785</td>\n    </tr>\n    <tr>\n      <th>157</th>\n      <td>M8X</td>\n      <td>Etobicoke</td>\n      <td>Montgomery Road,  Old Mill North,  The Kingsway</td>\n      <td>43.653760</td>\n      <td>-79.510890</td>\n    </tr>\n    <tr>\n      <th>158</th>\n      <td>M8Y</td>\n      <td>Etobicoke</td>\n      <td>Humber Bay,  King's Mill Park,  Kingsway Park...</td>\n      <td>43.632835</td>\n      <td>-79.489550</td>\n    </tr>\n    <tr>\n      <th>159</th>\n      <td>M8Z</td>\n      <td>Etobicoke</td>\n      <td>Kingsway Park South West,  Mimico NW,  Royal ...</td>\n      <td>43.624630</td>\n      <td>-79.526950</td>\n    </tr>\n    <tr>\n      <th>160</th>\n      <td>M9A</td>\n      <td>Etobicoke</td>\n      <td>Islington Avenue</td>\n      <td>43.662299</td>\n      <td>-79.528195</td>\n    </tr>\n    <tr>\n      <th>161</th>\n      <td>M9B</td>\n      <td>Etobicoke</td>\n      <td>Cloverdale,  Islington,  Martin Grove,  Princ...</td>\n      <td>43.650347</td>\n      <td>-79.555040</td>\n    </tr>\n    <tr>\n      <th>162</th>\n      <td>M9C</td>\n      <td>Etobicoke</td>\n      <td>Bloordale Gardens,  Eringate,  Markland Wood,...</td>\n      <td>43.648573</td>\n      <td>-79.578250</td>\n    </tr>\n    <tr>\n      <th>163</th>\n      <td>M9E</td>\n      <td>Not assigned</td>\n      <td>Not assigned</td>\n      <td>43.648690</td>\n      <td>-79.385440</td>\n    </tr>\n    <tr>\n      <th>164</th>\n      <td>M9G</td>\n      <td>Not assigned</td>\n      <td>Not assigned</td>\n      <td>43.648690</td>\n      <td>-79.385440</td>\n    </tr>\n    <tr>\n      <th>165</th>\n      <td>M9H</td>\n      <td>Not assigned</td>\n      <td>Not assigned</td>\n      <td>43.648690</td>\n      <td>-79.385440</td>\n    </tr>\n    <tr>\n      <th>166</th>\n      <td>M9J</td>\n      <td>Not assigned</td>\n      <td>Not assigned</td>\n      <td>43.648690</td>\n      <td>-79.385440</td>\n    </tr>\n    <tr>\n      <th>167</th>\n      <td>M9K</td>\n      <td>Not assigned</td>\n      <td>Not assigned</td>\n      <td>43.648690</td>\n      <td>-79.385440</td>\n    </tr>\n    <tr>\n      <th>168</th>\n      <td>M9L</td>\n      <td>North York</td>\n      <td>Humber Summit</td>\n      <td>43.759500</td>\n      <td>-79.557028</td>\n    </tr>\n    <tr>\n      <th>169</th>\n      <td>M9M</td>\n      <td>North York</td>\n      <td>Emery,  Humberlea</td>\n      <td>43.733705</td>\n      <td>-79.537508</td>\n    </tr>\n    <tr>\n      <th>170</th>\n      <td>M9N</td>\n      <td>York</td>\n      <td>Weston</td>\n      <td>43.704845</td>\n      <td>-79.517546</td>\n    </tr>\n    <tr>\n      <th>171</th>\n      <td>M9P</td>\n      <td>Etobicoke</td>\n      <td>Westmount</td>\n      <td>43.696505</td>\n      <td>-79.530252</td>\n    </tr>\n    <tr>\n      <th>172</th>\n      <td>M9R</td>\n      <td>Etobicoke</td>\n      <td>Kingsview Village,  Martin Grove Gardens,  Ri...</td>\n      <td>43.686810</td>\n      <td>-79.557284</td>\n    </tr>\n    <tr>\n      <th>173</th>\n      <td>M9S</td>\n      <td>Not assigned</td>\n      <td>Not assigned</td>\n      <td>43.648690</td>\n      <td>-79.385440</td>\n    </tr>\n    <tr>\n      <th>174</th>\n      <td>M9T</td>\n      <td>Not assigned</td>\n      <td>Not assigned</td>\n      <td>43.648690</td>\n      <td>-79.385440</td>\n    </tr>\n    <tr>\n      <th>175</th>\n      <td>M9V</td>\n      <td>Etobicoke</td>\n      <td>Albion Gardens,  Beaumond Heights,  Humbergat...</td>\n      <td>43.743145</td>\n      <td>-79.584664</td>\n    </tr>\n    <tr>\n      <th>176</th>\n      <td>M9W</td>\n      <td>Etobicoke</td>\n      <td>Northwest</td>\n      <td>43.711740</td>\n      <td>-79.579181</td>\n    </tr>\n    <tr>\n      <th>177</th>\n      <td>M9X</td>\n      <td>Not assigned</td>\n      <td>Not assigned</td>\n      <td>43.648690</td>\n      <td>-79.385440</td>\n    </tr>\n    <tr>\n      <th>178</th>\n      <td>M9Y</td>\n      <td>Not assigned</td>\n      <td>Not assigned</td>\n      <td>43.648690</td>\n      <td>-79.385440</td>\n    </tr>\n    <tr>\n      <th>179</th>\n      <td>M9Z</td>\n      <td>Not assigned</td>\n      <td>Not assigned</td>\n      <td>43.648690</td>\n      <td>-79.385440</td>\n    </tr>\n  </tbody>\n</table>\n<p>180 rows \u00d7 5 columns</p>\n</div>",
                        "text/plain": "    PostalCode        Borough  \\\n0          M1A   Not assigned   \n1          M1B    Scarborough   \n2          M1C    Scarborough   \n3          M1E    Scarborough   \n4          M1G    Scarborough   \n5          M1H    Scarborough   \n6          M1J    Scarborough   \n7          M1K    Scarborough   \n8          M1L    Scarborough   \n9          M1M    Scarborough   \n10         M1N    Scarborough   \n11         M1P    Scarborough   \n12         M1R    Scarborough   \n13         M1S    Scarborough   \n14         M1T    Scarborough   \n15         M1V    Scarborough   \n16         M1W    Scarborough   \n17         M1X    Scarborough   \n18         M1Y   Not assigned   \n19         M1Z   Not assigned   \n20         M2A   Not assigned   \n21         M2B   Not assigned   \n22         M2C   Not assigned   \n23         M2E   Not assigned   \n24         M2G   Not assigned   \n25         M2H     North York   \n26         M2J     North York   \n27         M2K     North York   \n28         M2L     North York   \n29         M2M     North York   \n..         ...            ...   \n150        M8N   Not assigned   \n151        M8P   Not assigned   \n152        M8R   Not assigned   \n153        M8S   Not assigned   \n154        M8T   Not assigned   \n155        M8V      Etobicoke   \n156        M8W      Etobicoke   \n157        M8X      Etobicoke   \n158        M8Y      Etobicoke   \n159        M8Z      Etobicoke   \n160        M9A      Etobicoke   \n161        M9B      Etobicoke   \n162        M9C      Etobicoke   \n163        M9E   Not assigned   \n164        M9G   Not assigned   \n165        M9H   Not assigned   \n166        M9J   Not assigned   \n167        M9K   Not assigned   \n168        M9L     North York   \n169        M9M     North York   \n170        M9N           York   \n171        M9P      Etobicoke   \n172        M9R      Etobicoke   \n173        M9S   Not assigned   \n174        M9T   Not assigned   \n175        M9V      Etobicoke   \n176        M9W      Etobicoke   \n177        M9X   Not assigned   \n178        M9Y   Not assigned   \n179        M9Z   Not assigned   \n\n                                         Neighbourhood   Latitude  Longitude  \n0                                         Not assigned  43.648690 -79.385440  \n1                                      Malvern,  Rouge  43.811525 -79.195517  \n2             Highland Creek,  Port Union,  Rouge Hill  43.785665 -79.158725  \n3                  Guildwood,  Morningside,  West Hill  43.765815 -79.175193  \n4                                               Woburn  43.768369 -79.217590  \n5                                            Cedarbrae  43.769688 -79.239440  \n6                                  Scarborough Village  43.743125 -79.231750  \n7        East Birchmount Park,  Ionview,  Kennedy Park  43.726276 -79.263625  \n8                    Clairlea,  Golden Mile,  Oakridge  43.713054 -79.285055  \n9     Cliffcrest,  Cliffside,  Scarborough Village ...  43.724235 -79.227925  \n10                        Birch Cliff,  Cliffside West  43.696770 -79.259967  \n11    Dorset Park,  Scarborough Town Centre,  Wexfo...  43.759975 -79.268974  \n12                                  Maryvale,  Wexford  43.750710 -79.300560  \n13                                           Agincourt  43.793940 -79.267976  \n14           Clarks Corners,  Sullivan,  Tam O'Shanter  43.784725 -79.299066  \n15    Agincourt North,  L'Amoreaux East,  Milliken,...  43.817685 -79.280187  \n16                                     L'Amoreaux West  43.800883 -79.320740  \n17                                         Upper Rouge  43.834215 -79.216701  \n18                                        Not assigned  43.648690 -79.385440  \n19                                        Not assigned  43.648690 -79.385440  \n20                                        Not assigned  43.648690 -79.385440  \n21                                        Not assigned  43.648690 -79.385440  \n22                                        Not assigned  43.648690 -79.385440  \n23                                        Not assigned  43.648690 -79.385440  \n24                                        Not assigned  43.648690 -79.385440  \n25                                   Hillcrest Village  43.802845 -79.356207  \n26                      Fairview,  Henry Farm,  Oriole  43.780970 -79.347813  \n27                                     Bayview Village  43.781015 -79.380529  \n28                           Silver Hills,  York Mills  43.757095 -79.380320  \n29                            Newtonbrook,  Willowdale  43.791475 -79.413605  \n..                                                 ...        ...        ...  \n150                                       Not assigned  43.648690 -79.385440  \n151                                       Not assigned  43.648690 -79.385440  \n152                                       Not assigned  43.648690 -79.385440  \n153                                       Not assigned  43.648690 -79.385440  \n154                                       Not assigned  43.648690 -79.385440  \n155     Humber Bay Shores,  Mimico South,  New Toronto  43.612200 -79.495146  \n156                            Alderwood,  Long Branch  43.601131 -79.538785  \n157    Montgomery Road,  Old Mill North,  The Kingsway  43.653760 -79.510890  \n158   Humber Bay,  King's Mill Park,  Kingsway Park...  43.632835 -79.489550  \n159   Kingsway Park South West,  Mimico NW,  Royal ...  43.624630 -79.526950  \n160                                   Islington Avenue  43.662299 -79.528195  \n161   Cloverdale,  Islington,  Martin Grove,  Princ...  43.650347 -79.555040  \n162   Bloordale Gardens,  Eringate,  Markland Wood,...  43.648573 -79.578250  \n163                                       Not assigned  43.648690 -79.385440  \n164                                       Not assigned  43.648690 -79.385440  \n165                                       Not assigned  43.648690 -79.385440  \n166                                       Not assigned  43.648690 -79.385440  \n167                                       Not assigned  43.648690 -79.385440  \n168                                      Humber Summit  43.759500 -79.557028  \n169                                  Emery,  Humberlea  43.733705 -79.537508  \n170                                             Weston  43.704845 -79.517546  \n171                                          Westmount  43.696505 -79.530252  \n172   Kingsview Village,  Martin Grove Gardens,  Ri...  43.686810 -79.557284  \n173                                       Not assigned  43.648690 -79.385440  \n174                                       Not assigned  43.648690 -79.385440  \n175   Albion Gardens,  Beaumond Heights,  Humbergat...  43.743145 -79.584664  \n176                                          Northwest  43.711740 -79.579181  \n177                                       Not assigned  43.648690 -79.385440  \n178                                       Not assigned  43.648690 -79.385440  \n179                                       Not assigned  43.648690 -79.385440  \n\n[180 rows x 5 columns]"
                    },
                    "execution_count": 28,
                    "metadata": {},
                    "output_type": "execute_result"
                }
            ],
            "source": "df2"
        },
        {
            "cell_type": "markdown",
            "metadata": {},
            "source": "# Part III: Clustering"
        },
        {
            "cell_type": "code",
            "execution_count": 8,
            "metadata": {},
            "outputs": [
                {
                    "ename": "ModuleNotFoundError",
                    "evalue": "No module named 'folium'",
                    "output_type": "error",
                    "traceback": [
                        "\u001b[0;31m---------------------------------------------------------------------------\u001b[0m",
                        "\u001b[0;31mModuleNotFoundError\u001b[0m                       Traceback (most recent call last)",
                        "\u001b[0;32m<ipython-input-8-ac1e9582baf4>\u001b[0m in \u001b[0;36m<module>\u001b[0;34m\u001b[0m\n\u001b[1;32m      5\u001b[0m \u001b[0;32mimport\u001b[0m \u001b[0mjson\u001b[0m\u001b[0;34m\u001b[0m\u001b[0;34m\u001b[0m\u001b[0m\n\u001b[1;32m      6\u001b[0m \u001b[0;32mfrom\u001b[0m \u001b[0mgeopy\u001b[0m\u001b[0;34m.\u001b[0m\u001b[0mgeocoders\u001b[0m \u001b[0;32mimport\u001b[0m \u001b[0mNominatim\u001b[0m\u001b[0;34m\u001b[0m\u001b[0;34m\u001b[0m\u001b[0m\n\u001b[0;32m----> 7\u001b[0;31m \u001b[0;32mimport\u001b[0m \u001b[0mfolium\u001b[0m\u001b[0;34m\u001b[0m\u001b[0;34m\u001b[0m\u001b[0m\n\u001b[0m",
                        "\u001b[0;31mModuleNotFoundError\u001b[0m: No module named 'folium'"
                    ]
                }
            ],
            "source": "import matplotlib.colors as colors\nimport matplotlib.cm as cm\nfrom sklearn.cluster import KMeans\nimport re\nimport json\nfrom geopy.geocoders import Nominatim\nimport folium"
        },
        {
            "cell_type": "code",
            "execution_count": 9,
            "metadata": {},
            "outputs": [
                {
                    "name": "stderr",
                    "output_type": "stream",
                    "text": "/opt/conda/envs/Python36/lib/python3.6/site-packages/ipykernel/__main__.py:4: DeprecationWarning: Using Nominatim with the default \"geopy/1.18.1\" `user_agent` is strongly discouraged, as it violates Nominatim's ToS https://operations.osmfoundation.org/policies/nominatim/ and may possibly cause 403 and 429 HTTP errors. Please specify a custom `user_agent` with `Nominatim(user_agent=\"my-application\")` or by overriding the default `user_agent`: `geopy.geocoders.options.default_user_agent = \"my-application\"`. In geopy 2.0 this will become an exception.\n"
                },
                {
                    "name": "stdout",
                    "output_type": "stream",
                    "text": "The geograpical coordinate of Toronto are 43.653963, -79.387207.\n"
                },
                {
                    "ename": "NameError",
                    "evalue": "name 'folium' is not defined",
                    "output_type": "error",
                    "traceback": [
                        "\u001b[0;31m---------------------------------------------------------------------------\u001b[0m",
                        "\u001b[0;31mNameError\u001b[0m                                 Traceback (most recent call last)",
                        "\u001b[0;32m<ipython-input-9-925af6ce8671>\u001b[0m in \u001b[0;36m<module>\u001b[0;34m\u001b[0m\n\u001b[1;32m      9\u001b[0m \u001b[0;34m\u001b[0m\u001b[0m\n\u001b[1;32m     10\u001b[0m \u001b[0;31m# create map of Toronto using latitude and longitude values\u001b[0m\u001b[0;34m\u001b[0m\u001b[0;34m\u001b[0m\u001b[0;34m\u001b[0m\u001b[0m\n\u001b[0;32m---> 11\u001b[0;31m \u001b[0mmap_toronto\u001b[0m \u001b[0;34m=\u001b[0m \u001b[0mfolium\u001b[0m\u001b[0;34m.\u001b[0m\u001b[0mMap\u001b[0m\u001b[0;34m(\u001b[0m\u001b[0mlocation\u001b[0m\u001b[0;34m=\u001b[0m\u001b[0;34m[\u001b[0m\u001b[0mlatitude\u001b[0m\u001b[0;34m,\u001b[0m \u001b[0mlongitude\u001b[0m\u001b[0;34m]\u001b[0m\u001b[0;34m,\u001b[0m \u001b[0mzoom_start\u001b[0m\u001b[0;34m=\u001b[0m\u001b[0;36m10\u001b[0m\u001b[0;34m)\u001b[0m\u001b[0;34m\u001b[0m\u001b[0;34m\u001b[0m\u001b[0m\n\u001b[0m\u001b[1;32m     12\u001b[0m \u001b[0;34m\u001b[0m\u001b[0m\n\u001b[1;32m     13\u001b[0m \u001b[0;31m# add markers to map\u001b[0m\u001b[0;34m\u001b[0m\u001b[0;34m\u001b[0m\u001b[0;34m\u001b[0m\u001b[0m\n",
                        "\u001b[0;31mNameError\u001b[0m: name 'folium' is not defined"
                    ]
                }
            ],
            "source": "address = 'Toronto'\n\n\ngeolocator = Nominatim()\nlocation = geolocator.geocode(address)\nlatitude = location.latitude\nlongitude = location.longitude\nprint('The geograpical coordinate of Toronto are {}, {}.'.format(latitude, longitude))\n\n# create map of Toronto using latitude and longitude values\nmap_toronto = folium.Map(location=[latitude, longitude], zoom_start=10)\n\n# add markers to map\nfor lat, lng, borough, Neighbourhood in zip(df2['Latitude'], df2['Longitude'], df2['Borough'], df2['Neighbourhood']):\n    label = '{}, {}'.format(Neighbourhood, Borough)\n    label = folium.Popup(label, parse_html=True)\n    folium.CircleMarker(\n        [lat, lng],\n        radius=5,\n        popup=label,\n        color='red',\n        fill=True,\n        fill_color='#080807',\n        fill_opacity=0.7,\n        parse_html=False).add_to(map_toronto)  \n    \nmap_toronto"
        },
        {
            "cell_type": "code",
            "execution_count": null,
            "metadata": {},
            "outputs": [],
            "source": ""
        }
    ],
    "metadata": {
        "kernelspec": {
            "display_name": "Python 3.6",
            "language": "python",
            "name": "python3"
        },
        "language_info": {
            "codemirror_mode": {
                "name": "ipython",
                "version": 3
            },
            "file_extension": ".py",
            "mimetype": "text/x-python",
            "name": "python",
            "nbconvert_exporter": "python",
            "pygments_lexer": "ipython3",
            "version": "3.6.9"
        }
    },
    "nbformat": 4,
    "nbformat_minor": 1
}